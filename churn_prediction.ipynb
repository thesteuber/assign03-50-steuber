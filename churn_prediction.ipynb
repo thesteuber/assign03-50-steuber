{
  "nbformat": 4,
  "nbformat_minor": 0,
  "metadata": {
    "colab": {
      "name": "churn-prediction",
      "provenance": [],
      "toc_visible": true,
      "authorship_tag": "ABX9TyOpem5M9DWLO36ZxT+RTHKz",
      "include_colab_link": true
    },
    "kernelspec": {
      "name": "python3",
      "display_name": "Python 3"
    },
    "language_info": {
      "name": "python"
    },
    "accelerator": "GPU"
  },
  "cells": [
    {
      "cell_type": "markdown",
      "metadata": {
        "id": "view-in-github",
        "colab_type": "text"
      },
      "source": [
        "<a href=\"https://colab.research.google.com/github/thesteuber/assign03-50-steuber/blob/2-read-in-hr-data-to-new-notebook/churn_prediction.ipynb\" target=\"_parent\"><img src=\"https://colab.research.google.com/assets/colab-badge.svg\" alt=\"Open In Colab\"/></a>"
      ]
    },
    {
      "cell_type": "markdown",
      "source": [
        "#Machine Learning - Assignment 3 \"Employee Churn\" \n"
      ],
      "metadata": {
        "id": "BFpVjaM9O53F"
      }
    },
    {
      "cell_type": "markdown",
      "source": [
        "##Purpose\n",
        "Gain experience applying scikit learn to machine learning problems."
      ],
      "metadata": {
        "id": "iJk-cELSPNSv"
      }
    },
    {
      "cell_type": "markdown",
      "source": [
        "##Import Python Libraries\n",
        "Run the following python to initiliaze all the needed libraries for the notebook."
      ],
      "metadata": {
        "id": "VosnYry0RGjw"
      }
    },
    {
      "cell_type": "code",
      "source": [
        "#tables and visualizations\n",
        "import pandas as pd\n",
        "import numpy as np\n",
        "import seaborn as sns\n",
        "import matplotlib.pyplot as plt\n",
        "\n",
        "#machine learning\n",
        "from sklearn.model_selection import train_test_split, GridSearchCV\n",
        "from sklearn.linear_model import LogisticRegression\n",
        "from sklearn.ensemble import RandomForestClassifier\n",
        "from sklearn.pipeline import Pipeline \n",
        "from sklearn.compose import ColumnTransformer, make_column_selector\n",
        "from sklearn.impute import SimpleImputer\n",
        "from sklearn.preprocessing import OneHotEncoder, LabelBinarizer, StandardScaler\n",
        "from sklearn import config_context\n",
        "from sklearn.metrics import classification_report, confusion_matrix, ConfusionMatrixDisplay"
      ],
      "metadata": {
        "id": "eBQMOhTjROO5"
      },
      "execution_count": 1,
      "outputs": []
    },
    {
      "cell_type": "markdown",
      "source": [
        "##Tasks"
      ],
      "metadata": {
        "id": "NIJDG7a5PSeN"
      }
    },
    {
      "cell_type": "markdown",
      "source": [
        "###1. Create a new notebook \n",
        "\n",
        "\n",
        "---\n",
        "\n",
        "\n",
        "Create a new notebook named \"churn-prediction\", and properly document the notebook with descriptions of the tasks."
      ],
      "metadata": {
        "id": "4spx86yaPWqh"
      }
    },
    {
      "cell_type": "markdown",
      "source": [
        "Task completed as seen in this notebook."
      ],
      "metadata": {
        "id": "N-LiCj5sQSMy"
      }
    },
    {
      "cell_type": "markdown",
      "source": [
        "###2. Read in HR Data\n",
        "\n",
        "\n",
        "---\n",
        "\n",
        "\n",
        "Using the scikit-demo-solutions notebook as a guide, read in the HR data."
      ],
      "metadata": {
        "id": "eeBYyWujPfyf"
      }
    },
    {
      "cell_type": "markdown",
      "source": [
        "###3. Split the Data\n",
        "\n",
        "\n",
        "---\n",
        "\n",
        "\n",
        "Split the data for train and test."
      ],
      "metadata": {
        "id": "WaH_0m_aPp5K"
      }
    },
    {
      "cell_type": "markdown",
      "source": [
        "###4. Build Pipeline\n",
        "\n",
        "\n",
        "---\n",
        "\n",
        "\n",
        "Build an appropriate training pipeline."
      ],
      "metadata": {
        "id": "JrYs57zrPuiT"
      }
    },
    {
      "cell_type": "markdown",
      "source": [
        "###5. Cross Validation\n",
        "\n",
        "\n",
        "---\n",
        "\n",
        "\n",
        "Carry out cross-validation"
      ],
      "metadata": {
        "id": "C0KwJCg2PxAX"
      }
    }
  ]
}