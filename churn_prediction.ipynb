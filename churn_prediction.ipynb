{
  "nbformat": 4,
  "nbformat_minor": 0,
  "metadata": {
    "colab": {
      "name": "churn-prediction",
      "provenance": [],
      "toc_visible": true,
      "authorship_tag": "ABX9TyP3f6itg3NsEE8sKbAQTesd",
      "include_colab_link": true
    },
    "kernelspec": {
      "name": "python3",
      "display_name": "Python 3"
    },
    "language_info": {
      "name": "python"
    }
  },
  "cells": [
    {
      "cell_type": "markdown",
      "metadata": {
        "id": "view-in-github",
        "colab_type": "text"
      },
      "source": [
        "<a href=\"https://colab.research.google.com/github/thesteuber/assign03-50-steuber/blob/1-create-new-notebook-name-churn-prediction/churn_prediction.ipynb\" target=\"_parent\"><img src=\"https://colab.research.google.com/assets/colab-badge.svg\" alt=\"Open In Colab\"/></a>"
      ]
    },
    {
      "cell_type": "markdown",
      "source": [
        "#Machine Learning - Assignment 3 \"Employee Churn\" \n"
      ],
      "metadata": {
        "id": "BFpVjaM9O53F"
      }
    },
    {
      "cell_type": "markdown",
      "source": [
        "##Purpose\n",
        "Gain experience applying scikit learn to machine learning problems."
      ],
      "metadata": {
        "id": "iJk-cELSPNSv"
      }
    },
    {
      "cell_type": "markdown",
      "source": [
        "##Tasks"
      ],
      "metadata": {
        "id": "NIJDG7a5PSeN"
      }
    },
    {
      "cell_type": "markdown",
      "source": [
        "###1. Create a new notebook \n",
        "\n",
        "\n",
        "---\n",
        "\n",
        "\n",
        "Create a new notebook named \"churn-prediction\", and properly document the notebook with descriptions of the tasks."
      ],
      "metadata": {
        "id": "4spx86yaPWqh"
      }
    },
    {
      "cell_type": "markdown",
      "source": [
        "Task completed as seen in this notebook."
      ],
      "metadata": {
        "id": "N-LiCj5sQSMy"
      }
    },
    {
      "cell_type": "markdown",
      "source": [
        "###2. Read in HR Data\n",
        "\n",
        "\n",
        "---\n",
        "\n",
        "\n",
        "Using the scikit-demo-solutions notebook as a guide, read in the HR data."
      ],
      "metadata": {
        "id": "eeBYyWujPfyf"
      }
    },
    {
      "cell_type": "markdown",
      "source": [
        "###3. Split the Data\n",
        "\n",
        "\n",
        "---\n",
        "\n",
        "\n",
        "Split the data for train and test."
      ],
      "metadata": {
        "id": "WaH_0m_aPp5K"
      }
    },
    {
      "cell_type": "markdown",
      "source": [
        "###4. Build Pipeline\n",
        "\n",
        "\n",
        "---\n",
        "\n",
        "\n",
        "Build an appropriate training pipeline."
      ],
      "metadata": {
        "id": "JrYs57zrPuiT"
      }
    },
    {
      "cell_type": "markdown",
      "source": [
        "###5. Cross Validation\n",
        "\n",
        "\n",
        "---\n",
        "\n",
        "\n",
        "Carry out cross-validation"
      ],
      "metadata": {
        "id": "C0KwJCg2PxAX"
      }
    }
  ]
}